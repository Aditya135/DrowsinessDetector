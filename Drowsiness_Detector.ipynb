{
 "cells": [
  {
   "cell_type": "code",
   "execution_count": null,
   "metadata": {},
   "outputs": [],
   "source": [
    "import cv2\n",
    "import dlib\n",
    "from imutils import face_utils"
   ]
  },
  {
   "cell_type": "code",
   "execution_count": null,
   "metadata": {},
   "outputs": [],
   "source": [
    "p = \"shape_predictor_68_face_landmarks.dat\"\n",
    "detector = dlib.get_frontal_face_detector()\n",
    "predictor = dlib.shape_predictor(p)"
   ]
  },
  {
   "cell_type": "code",
   "execution_count": null,
   "metadata": {},
   "outputs": [],
   "source": [
    "dist = lambda x,y: ((x[0]-y[0])**2+(x[1]-y[1])**2)**(0.5)\n",
    "\n",
    "\n",
    "font                   = cv2.FONT_HERSHEY_SIMPLEX\n",
    "fontScale              = 1\n",
    "fontColor              = (255,255,255)\n",
    "lineType               = 2"
   ]
  },
  {
   "cell_type": "code",
   "execution_count": null,
   "metadata": {},
   "outputs": [],
   "source": [
    "import numpy as np\n",
    "import time\n",
    "cap = cv2.VideoCapture(0)\n",
    "cap.set(cv2.CAP_PROP_AUTO_EXPOSURE, 0.25)\n",
    "threshold = 7.5\n",
    "mouth_threshold = 18\n",
    "    \n",
    "    \n",
    "drowsey_cntr=0\n",
    "previous_time = time.time()\n",
    "while True:\n",
    "    # Getting out image by webcam \n",
    "    _, image = cap.read()\n",
    "    # Converting the image to gray scale\n",
    "    gray = cv2.cvtColor(image, cv2.COLOR_BGR2GRAY)\n",
    "    \n",
    "    height, width = gray.shape[:2]\n",
    "    \n",
    "    gray = cv2.resize(gray,(width*2,height*2),interpolation=cv2.INTER_CUBIC)\n",
    "    \n",
    "    gray = gray[height//2:(2*height-height//2),width//2:(2*width-width//2)]\n",
    "    # Get faces from webcam's image\n",
    "    rects = detector(gray, 0)\n",
    "    \n",
    "    # For each detected face, find the landmark.\n",
    "    for (i, rect) in enumerate(rects):\n",
    "        # Make the prediction and transfom it to numpy array\n",
    "        shape = predictor(gray, rect)\n",
    "        shape = face_utils.shape_to_np(shape)\n",
    "        \n",
    "        dist_left_eye = min(dist(shape[37],shape[41]),dist(shape[38],shape[40]))\n",
    "        dist_right_eye = min(dist(shape[43],shape[47]),dist(shape[44],shape[46]))\n",
    "        \n",
    "        lips_dist = dist(shape[62],shape[66])\n",
    "        \n",
    "        # Draw on our image, all the finded cordinate points (x,y) \n",
    "        for (x, y) in shape[36:48]:\n",
    "            cv2.circle(gray, (x, y), 2, (0, 255, 0), -1)\n",
    "            \n",
    "        for (x, y) in shape[48:67]:\n",
    "            cv2.circle(gray, (x, y), 2, (0, 255, 0), -1)\n",
    "        \n",
    "        \n",
    "        test = True\n",
    "        if(dist_left_eye<threshold):\n",
    "            text_left = \"left eye closed\"\n",
    "        else:\n",
    "            text_left = \"left eye open\"\n",
    "            test = test and False\n",
    "        if(dist_right_eye<threshold):\n",
    "            text_right = \"right eye closed\"\n",
    "        else:\n",
    "            text_right = \"right eye open\"\n",
    "            test = test and False\n",
    "        if(lips_dist>mouth_threshold):\n",
    "            mouth_text = \"mouth open\"\n",
    "        else:\n",
    "            mouth_text = \"mouth closed\"\n",
    "            test = test and False\n",
    "        if((time.time() - previous_time)>3.5 and test):\n",
    "            previous_time = time.time()\n",
    "            drowsey_cntr = (drowsey_cntr+1) if test else drowsey_cntr\n",
    "            print(\"closed\")\n",
    "        \n",
    "        cv2.putText(gray,text_left,(10,30),font, fontScale,fontColor,lineType)\n",
    "        cv2.putText(gray,text_right,(10,60),font, fontScale,fontColor,lineType)\n",
    "        cv2.putText(gray,mouth_text,(10,90),font, fontScale,fontColor,lineType)\n",
    "        cv2.putText(gray,str(test),(10,120),font, fontScale,fontColor,lineType)\n",
    "    # Show the image\n",
    "    cv2.imshow(\"Output\", gray)\n",
    "    \n",
    "    k = cv2.waitKey(5) & 0xFF\n",
    "    if k == 27:\n",
    "        break\n",
    "\n",
    "cv2.destroyAllWindows()\n",
    "cap.release()"
   ]
  },
  {
   "cell_type": "code",
   "execution_count": null,
   "metadata": {},
   "outputs": [],
   "source": [
    "cv2.destroyAllWindows()\n",
    "cap.release()"
   ]
  }
 ],
 "metadata": {
  "kernelspec": {
   "display_name": "Python 3",
   "language": "python",
   "name": "python3"
  },
  "language_info": {
   "codemirror_mode": {
    "name": "ipython",
    "version": 3
   },
   "file_extension": ".py",
   "mimetype": "text/x-python",
   "name": "python",
   "nbconvert_exporter": "python",
   "pygments_lexer": "ipython3",
   "version": "3.6.9"
  }
 },
 "nbformat": 4,
 "nbformat_minor": 2
}
